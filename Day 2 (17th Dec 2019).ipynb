{
 "cells": [
  {
   "cell_type": "markdown",
   "metadata": {},
   "source": [
    "## Literate Programming \n",
    "* The Literate programming is a combination of Both Coding And Documentaion"
   ]
  },
  {
   "cell_type": "markdown",
   "metadata": {},
   "source": [
    "###### This is first Heading\n",
    "- Sub heading\n",
    "    - This is Another Heading\n",
    "        - This is another one"
   ]
  },
  {
   "cell_type": "code",
   "execution_count": null,
   "metadata": {},
   "outputs": [],
   "source": []
  },
  {
   "cell_type": "markdown",
   "metadata": {},
   "source": [
    "###### This is Second Heading"
   ]
  },
  {
   "cell_type": "code",
   "execution_count": null,
   "metadata": {},
   "outputs": [],
   "source": []
  },
  {
   "cell_type": "markdown",
   "metadata": {},
   "source": [
    "#### This is Third Heading"
   ]
  },
  {
   "cell_type": "markdown",
   "metadata": {},
   "source": [
    "### This is Fourth Heading"
   ]
  },
  {
   "cell_type": "markdown",
   "metadata": {},
   "source": [
    "## This Is fifth Heading"
   ]
  },
  {
   "cell_type": "markdown",
   "metadata": {},
   "source": [
    "# this is Sixth Heading"
   ]
  },
  {
   "cell_type": "markdown",
   "metadata": {},
   "source": [
    "<!DOCTYPE html>\n",
    "<html>\n",
    "<head>\n",
    "<title>Page Title</title>\n",
    "</head>\n",
    "<body>\n",
    "\n",
    "<h1>This is a Heading</h1>\n",
    "<p>This is a paragraph.</p>\n",
    "\n",
    "</body>\n",
    "</html>"
   ]
  },
  {
   "cell_type": "markdown",
   "metadata": {},
   "source": [
    "<!DOCTYPE html>\n",
    "<html>\n",
    "<head>\n",
    "<title>Page Title</title>\n",
    "</head>\n",
    "<body>\n",
    "\n",
    "<h1>This is a Heading</h1>\n",
    "<p>This is a paragraph.</p>\n",
    "\n",
    "</body>\n",
    "</html>"
   ]
  },
  {
   "cell_type": "markdown",
   "metadata": {},
   "source": [
    "## Ordered List\n",
    "    1. item 1\n",
    "    2. item 2\n",
    "    3. item 3\n",
    "        * subitem\n",
    "## Un-Oderlist\n",
    "* Item 1\n",
    "* Item 2\n",
    "* Item 3\n",
    "\n",
    "\n",
    "<img src='cbitpdtr.jpg'>\n",
    "\n",
    "987654321\n",
    "\n",
    "www.google.com\n",
    "www.cbit.org\n",
    "muneiah.t@apssdc.in\n"
   ]
  },
  {
   "cell_type": "markdown",
   "metadata": {},
   "source": [
    "## Arthametic Oparators"
   ]
  },
  {
   "cell_type": "code",
   "execution_count": 8,
   "metadata": {},
   "outputs": [],
   "source": [
    "#Static implementation\n",
    "a=4\n",
    "b=8\n"
   ]
  },
  {
   "cell_type": "code",
   "execution_count": 9,
   "metadata": {},
   "outputs": [
    {
     "name": "stdout",
     "output_type": "stream",
     "text": [
      "Addition of a and b is  12\n"
     ]
    }
   ],
   "source": [
    "print(\"Addition of a and b is \",a+b)"
   ]
  },
  {
   "cell_type": "code",
   "execution_count": 13,
   "metadata": {},
   "outputs": [
    {
     "name": "stdout",
     "output_type": "stream",
     "text": [
      "Addition of 4 and 8 is12\n"
     ]
    }
   ],
   "source": [
    "print(\"Addition of \"+str(a)+\" and \"+str(b)+\" is\" +str(a+b))"
   ]
  },
  {
   "cell_type": "code",
   "execution_count": 14,
   "metadata": {},
   "outputs": [
    {
     "name": "stdout",
     "output_type": "stream",
     "text": [
      "Subtration of  4 and  8 is : -4\n"
     ]
    }
   ],
   "source": [
    "print(\"Subtration of \",a,\"and \",b,\"is :\",a-b)"
   ]
  },
  {
   "cell_type": "code",
   "execution_count": 15,
   "metadata": {},
   "outputs": [
    {
     "name": "stdout",
     "output_type": "stream",
     "text": [
      "Multiplication of  4 and  8 is : 32\n"
     ]
    }
   ],
   "source": [
    "print(\"Multiplication of \",a,\"and \",b,\"is :\",a*b)"
   ]
  },
  {
   "cell_type": "code",
   "execution_count": 16,
   "metadata": {},
   "outputs": [
    {
     "name": "stdout",
     "output_type": "stream",
     "text": [
      "Division of  4 and  8 is : 0.5\n"
     ]
    }
   ],
   "source": [
    "print(\"Division of \",a,\"and \",b,\"is :\",a/b)"
   ]
  },
  {
   "cell_type": "code",
   "execution_count": 18,
   "metadata": {},
   "outputs": [
    {
     "name": "stdout",
     "output_type": "stream",
     "text": [
      "Modulo division of  4 and  8 is : 4\n"
     ]
    }
   ],
   "source": [
    "print(\"Modulo division of \",a,\"and \",b,\"is :\",a%b)"
   ]
  },
  {
   "cell_type": "code",
   "execution_count": 17,
   "metadata": {},
   "outputs": [
    {
     "name": "stdout",
     "output_type": "stream",
     "text": [
      "Floor Division of  4 and  8 is : 0\n"
     ]
    }
   ],
   "source": [
    "print(\"Floor Division of \",a,\"and \",b,\"is :\",a//b)"
   ]
  },
  {
   "cell_type": "code",
   "execution_count": 5,
   "metadata": {},
   "outputs": [],
   "source": [
    "print(\"Subtration of \",a,\"and \",b,\"is :\",a-b)"
   ]
  },
  {
   "cell_type": "code",
   "execution_count": 19,
   "metadata": {},
   "outputs": [
    {
     "name": "stdout",
     "output_type": "stream",
     "text": [
      "power of  4 and  8 is : 65536\n"
     ]
    }
   ],
   "source": [
    "print(\"power of \",a,\"and \",b,\"is :\",a**b)#4^8"
   ]
  },
  {
   "cell_type": "code",
   "execution_count": 25,
   "metadata": {},
   "outputs": [
    {
     "name": "stdout",
     "output_type": "stream",
     "text": [
      "10\n",
      "<class 'int'>\n",
      "20\n",
      "<class 'int'>\n",
      "30\n"
     ]
    }
   ],
   "source": [
    "value1=input()\n",
    "value1=int(value1)\n",
    "print(type(value1))\n",
    "value2=input()\n",
    "value2=int(value2)\n",
    "print(type(value2))\n",
    "print(value1+value2)"
   ]
  },
  {
   "cell_type": "markdown",
   "metadata": {},
   "source": [
    "#Dynamic Implementation\n",
    "value1=int(input(\"Enter your first values\"))\n",
    "value2=int(input(\"Enter your Second value\"))\n",
    "print(\"Addition of \",value1,\"and \",value2,\"is :\",value1+value2)"
   ]
  },
  {
   "cell_type": "markdown",
   "metadata": {},
   "source": [
    "### Statements /Control Flow \n",
    "\n"
   ]
  },
  {
   "cell_type": "code",
   "execution_count": null,
   "metadata": {},
   "outputs": [],
   "source": [
    "#Two types\n",
    "Conditional Stms\n",
    "    if\n",
    "    if else\n",
    "    if elif else\n",
    "Control Stms\n",
    "    For\n",
    "    while\n",
    "        continoue\n",
    "        Break    \n",
    "        \n",
    "        \n",
    "        \n",
    "        \n",
    "        \n"
   ]
  },
  {
   "cell_type": "code",
   "execution_count": null,
   "metadata": {},
   "outputs": [],
   "source": [
    "# c-lang\n",
    "if(condition){\n",
    "    ...stemt.....\n",
    "}"
   ]
  },
  {
   "cell_type": "code",
   "execution_count": null,
   "metadata": {},
   "outputs": [],
   "source": [
    "# In python\n",
    "# Conditional Stms\n",
    "#     if\n",
    "# Syntax \n",
    "if condition:# If not given by colon it will indentaion error\n",
    "    ...Stmts\n"
   ]
  },
  {
   "cell_type": "code",
   "execution_count": 35,
   "metadata": {},
   "outputs": [
    {
     "name": "stdout",
     "output_type": "stream",
     "text": [
      "Enter the a value 1\n",
      "Enter the b value 4\n"
     ]
    }
   ],
   "source": [
    "#Example\n",
    "a=int(input(\"Enter the a value \"))\n",
    "b=int(input(\"Enter the b value \"))\n",
    "if a>b:\n",
    "    print(\"Yes a is grater\")\n"
   ]
  },
  {
   "cell_type": "code",
   "execution_count": null,
   "metadata": {},
   "outputs": [],
   "source": [
    "#if else..\n",
    "# Syntax\n",
    "if cond:\n",
    "    ...stms\n",
    "else:\n",
    "    ....stms\n"
   ]
  },
  {
   "cell_type": "code",
   "execution_count": null,
   "metadata": {},
   "outputs": [],
   "source": [
    "#Example\n",
    "a=int(input(\"Enter the a value \"))\n",
    "b=int(input(\"Enter the b value \"))\n",
    "if a>b:\n",
    "    print(\"Yes a is grater\")\n",
    "else:\n",
    "    print(\"No a is smaller \")"
   ]
  },
  {
   "cell_type": "code",
   "execution_count": 38,
   "metadata": {},
   "outputs": [
    {
     "name": "stdout",
     "output_type": "stream",
     "text": [
      "Yes both are equal\n"
     ]
    }
   ],
   "source": [
    "s=\"cbit\"\n",
    "s1=\"cbit\"\n",
    "\n",
    "if s==s1:\n",
    "    print(\"Yes both are equal\")\n",
    "else:\n",
    "    print(\"No Not eqval\")"
   ]
  },
  {
   "cell_type": "code",
   "execution_count": 39,
   "metadata": {},
   "outputs": [
    {
     "name": "stdout",
     "output_type": "stream",
     "text": [
      "Yes both are equal\n"
     ]
    }
   ],
   "source": [
    "s=\"cbit\"\n",
    "s1=\"cbit\"\n",
    "\n",
    "if s is s1:\n",
    "    print(\"Yes both are equal\")\n",
    "else:\n",
    "    print(\"No Not eqval\")"
   ]
  },
  {
   "cell_type": "code",
   "execution_count": null,
   "metadata": {},
   "outputs": [],
   "source": [
    "# if elif else\n",
    "#Syntax\n",
    "if cond:\n",
    "    ...stms\n",
    "elif cond:\n",
    "    ...stms\n",
    "else:\n",
    "    ...stms\n",
    "    "
   ]
  },
  {
   "cell_type": "code",
   "execution_count": 42,
   "metadata": {},
   "outputs": [
    {
     "name": "stdout",
     "output_type": "stream",
     "text": [
      "Enter the a value 10\n",
      "Enter the b value 20\n",
      "Enter the c value 30\n",
      "c is Grater\n"
     ]
    }
   ],
   "source": [
    "#Example :Find the Graterr Number\n",
    "#Example\n",
    "a=int(input(\"Enter the a value \"))\n",
    "b=int(input(\"Enter the b value \"))\n",
    "c=int(input(\"Enter the c value \"))\n",
    "d=int(input(\"Enter The d Value\"))\n",
    "if a>b:\n",
    "    if a>c:\n",
    "        if a>d:\n",
    "            print(\"Yes a is grater\")\n",
    "elif b>c:\n",
    "    if b>d:\n",
    "        print(\"b is grater \")\n",
    "elif c>d:\n",
    "    print(\"c is Grater\")\n",
    "else:\n",
    "    print(\"d is Grater\")"
   ]
  },
  {
   "cell_type": "code",
   "execution_count": null,
   "metadata": {},
   "outputs": [],
   "source": [
    "# Task :\n",
    "# Find the given number is even or not \n",
    "# Find the given number is odd or not\n",
    "# Find Given Year is leap year or not\n",
    "# Take the user input:\n",
    "    # If input is 18 print the \"adult\" or input is less then\n",
    "    #18 message \"chaild\" ,if above 18 the print the message as\n",
    "    #\"old\" "
   ]
  },
  {
   "cell_type": "code",
   "execution_count": 47,
   "metadata": {},
   "outputs": [
    {
     "name": "stdout",
     "output_type": "stream",
     "text": [
      "enter a18\n",
      "18  is even\n"
     ]
    }
   ],
   "source": [
    "a=int(input(\"enter a\"))\n",
    "if a%2==0:\n",
    "    print(a,\" is even\")\n",
    "else:\n",
    "    print(a,\" is not even\")\n"
   ]
  },
  {
   "cell_type": "code",
   "execution_count": 48,
   "metadata": {},
   "outputs": [
    {
     "name": "stdout",
     "output_type": "stream",
     "text": [
      "enter the number23\n",
      "23 is an odd numeber\n"
     ]
    }
   ],
   "source": [
    "a=int(input(\"enter the number\"))\n",
    "if(a%2!=0):\n",
    "    print( a, \"is an odd numeber\")\n",
    "else:\n",
    "    print(a,\"is not an even numwber\")\n",
    "    "
   ]
  },
  {
   "cell_type": "code",
   "execution_count": 52,
   "metadata": {},
   "outputs": [
    {
     "name": "stdout",
     "output_type": "stream",
     "text": [
      "enter the year1900\n",
      "given year is leap year\n"
     ]
    }
   ],
   "source": [
    "year=int(input(\"enter the year\"))\n",
    "if(year%4==0):\n",
    "    print(\"given year is leap year\")\n",
    "else:\n",
    "    print(\"given year is not leap year\")"
   ]
  },
  {
   "cell_type": "code",
   "execution_count": 57,
   "metadata": {},
   "outputs": [
    {
     "name": "stdout",
     "output_type": "stream",
     "text": [
      "enter the year1900\n",
      "given year is not leap year\n"
     ]
    }
   ],
   "source": [
    "year=int(input(\"enter the year\"))\n",
    "if(year%400==0 or (year%100!=0 or year%40==0)):\n",
    "    print(\"given year is leap year\")\n",
    "else:\n",
    "    print(\"given year is not leap year\")"
   ]
  },
  {
   "cell_type": "code",
   "execution_count": 60,
   "metadata": {},
   "outputs": [
    {
     "name": "stdout",
     "output_type": "stream",
     "text": [
      "Enter age:18\n",
      "Adult\n"
     ]
    }
   ],
   "source": [
    "age=int(input(\"Enter age:\"))\n",
    "if age==18:\n",
    "    print(\"Adult\")\n",
    "elif age>18:\n",
    "    print(\"Old\")\n",
    "else:\n",
    "    print(\"Child\")"
   ]
  },
  {
   "cell_type": "code",
   "execution_count": null,
   "metadata": {},
   "outputs": [],
   "source": [
    "#Wether info \n",
    " if wether 30 -->\"hot\"\n",
    "       below 18-->\"Cool\"\n",
    "    in between 18 to 30-->\"Moderate\""
   ]
  },
  {
   "cell_type": "markdown",
   "metadata": {},
   "source": [
    "## Control Statements\n",
    "* If we know the lower bound and upper bound then only we use the Control Statements\n"
   ]
  },
  {
   "cell_type": "code",
   "execution_count": null,
   "metadata": {},
   "outputs": [],
   "source": [
    "#1.For loop\n",
    "#2.While \n",
    "#     continoue\n",
    "#     break"
   ]
  },
  {
   "cell_type": "code",
   "execution_count": 63,
   "metadata": {},
   "outputs": [
    {
     "name": "stdout",
     "output_type": "stream",
     "text": [
      "range(0, 10)\n"
     ]
    }
   ],
   "source": [
    "#Range()\n",
    "\n",
    "print(range(10))"
   ]
  },
  {
   "cell_type": "code",
   "execution_count": null,
   "metadata": {},
   "outputs": [],
   "source": [
    "#Syntax of for loop\n",
    "    #Other lang\n",
    "        #for(inisiliz;cond;incre/dec){\n",
    "        \n",
    "        #}\n",
    "#         #for(int i=0;i<=10;i++){\n",
    "#         println(i)\n",
    "#         }\n"
   ]
  },
  {
   "cell_type": "code",
   "execution_count": 67,
   "metadata": {},
   "outputs": [
    {
     "name": "stdout",
     "output_type": "stream",
     "text": [
      "1\n",
      "2\n",
      "3\n",
      "4\n",
      "5\n",
      "6\n",
      "7\n",
      "8\n",
      "9\n",
      "10\n"
     ]
    }
   ],
   "source": [
    "# For in python\n",
    "# for var fun:\n",
    "#     ...srms\n",
    "for i in range(1,11):#Default Increment\n",
    "    print(i)#Defalulty takes new line"
   ]
  },
  {
   "cell_type": "code",
   "execution_count": 72,
   "metadata": {},
   "outputs": [
    {
     "name": "stdout",
     "output_type": "stream",
     "text": [
      "1,2,3,4,5,6,7,8,9,10,"
     ]
    }
   ],
   "source": [
    "for i in range(1,11):#Default Increment\n",
    "    print(i,end=\",\")"
   ]
  },
  {
   "cell_type": "code",
   "execution_count": 68,
   "metadata": {},
   "outputs": [
    {
     "name": "stdout",
     "output_type": "stream",
     "text": [
      "11\n",
      "10\n",
      "9\n",
      "8\n",
      "7\n",
      "6\n",
      "5\n",
      "4\n",
      "3\n",
      "2\n"
     ]
    }
   ],
   "source": [
    "for i in range(11,1,-1):#Decrement\n",
    "    print(i)"
   ]
  },
  {
   "cell_type": "code",
   "execution_count": 73,
   "metadata": {},
   "outputs": [
    {
     "name": "stdout",
     "output_type": "stream",
     "text": [
      "2 4 6 8 10 12 14 16 18 20 22 24 26 28 30 32 34 36 38 40 42 44 46 48 50 52 54 56 58 60 62 64 66 68 70 72 74 76 78 80 82 84 86 88 90 92 94 96 98 100 "
     ]
    }
   ],
   "source": [
    "#Even Number \n",
    "for number in range(1,101):\n",
    "    if number%2==0:\n",
    "        print(number,end=\" \")"
   ]
  },
  {
   "cell_type": "code",
   "execution_count": 74,
   "metadata": {},
   "outputs": [
    {
     "name": "stdout",
     "output_type": "stream",
     "text": [
      "1 3 5 7 9 11 13 15 17 19 21 23 25 27 29 31 33 35 37 39 41 43 45 47 49 51 53 55 57 59 61 63 65 67 69 71 73 75 77 79 81 83 85 87 89 91 93 95 97 99 "
     ]
    }
   ],
   "source": [
    "#Even Number \n",
    "for number in range(1,101):\n",
    "    if number%2!=0:\n",
    "        print(number,end=\" \")"
   ]
  },
  {
   "cell_type": "code",
   "execution_count": 75,
   "metadata": {},
   "outputs": [
    {
     "name": "stdout",
     "output_type": "stream",
     "text": [
      "0 2 4 6 8 10 12 14 16 18 20 22 24 26 28 30 32 34 36 38 40 42 44 46 48 50 52 54 56 58 60 62 64 66 68 70 72 74 76 78 80 82 84 86 88 90 92 94 96 98 100 "
     ]
    }
   ],
   "source": [
    "# Find the even numbers with out condition \n",
    "for even in range(0,101,2):\n",
    "    print(even,end=\" \")"
   ]
  },
  {
   "cell_type": "code",
   "execution_count": 80,
   "metadata": {},
   "outputs": [
    {
     "name": "stdout",
     "output_type": "stream",
     "text": [
      "1 3 5 7 9 11 13 15 17 19 21 23 25 27 29 31 33 35 37 39 41 43 45 47 49 51 53 55 57 59 61 63 65 67 69 71 73 75 77 79 81 83 85 87 89 91 93 95 97 99 "
     ]
    }
   ],
   "source": [
    "#Find the odd numbers with out condition \n",
    "for odd in range(1,101,2):\n",
    "    print(odd,end=\" \")"
   ]
  },
  {
   "cell_type": "code",
   "execution_count": 1,
   "metadata": {},
   "outputs": [
    {
     "name": "stdout",
     "output_type": "stream",
     "text": [
      "4\n",
      "Hi hello\n"
     ]
    }
   ],
   "source": [
    "#while:\n",
    "#     while cond:\n",
    "#         ...stmts\n",
    "n=int(input())#n=4\n",
    "while n>0:\n",
    "    if n==4:\n",
    "        print(\"Hi hello\")\n",
    "        break\n",
    "\n",
    "\n"
   ]
  },
  {
   "cell_type": "code",
   "execution_count": 3,
   "metadata": {},
   "outputs": [
    {
     "name": "stdout",
     "output_type": "stream",
     "text": [
      "63473567865483568\n",
      "17\n"
     ]
    }
   ],
   "source": [
    "#Example for while\n",
    "n=int(input())\n",
    "c=0\n",
    "while n>0:\n",
    "    n=n//10\n",
    "    c=c+1 #c+=1   #Increment\n",
    "print(c)\n",
    "    \n",
    "    \n",
    "\n",
    "    "
   ]
  },
  {
   "cell_type": "code",
   "execution_count": 24,
   "metadata": {},
   "outputs": [
    {
     "name": "stdout",
     "output_type": "stream",
     "text": [
      "7\n",
      "7 * 1 = 7\n",
      "7 * 2 = 14\n",
      "7 * 3 = 21\n",
      "7 * 4 = 28\n",
      "7 * 5 = 35\n",
      "7 * 6 = 42\n",
      "7 * 7 = 49\n",
      "7 * 8 = 56\n",
      "7 * 9 = 63\n",
      "7 * 10 = 70\n"
     ]
    }
   ],
   "source": [
    "# Table format\n",
    "# input:5\n",
    "# output:5*1=5\n",
    "#        5*2=10\n",
    "#        5*3=15\n",
    "#        5*4=20\n",
    "        \n",
    "        \n",
    "#        5*10=50\n",
    "n=int(input())\n",
    "# for i in range(1,11):\n",
    "#     print(n,\"*\",i,\"=\",n*i)\n",
    "i=1\n",
    "while(i<11):\n",
    "    print(n,\"*\",i,\"=\",n*i)\n",
    "    i=i+1"
   ]
  },
  {
   "cell_type": "code",
   "execution_count": 23,
   "metadata": {},
   "outputs": [
    {
     "name": "stdout",
     "output_type": "stream",
     "text": [
      "1\n",
      "100\n",
      "162p1a0401\n",
      "162p1a0402\n",
      "162p1a0403\n",
      "162p1a0404\n",
      "162p1a0405\n",
      "162p1a0406\n",
      "162p1a0407\n",
      "162p1a0408\n",
      "162p1a0409\n",
      "162p1a0410\n",
      "162p1a0411\n",
      "162p1a0412\n",
      "162p1a0413\n",
      "162p1a0414\n",
      "162p1a0415\n",
      "162p1a0416\n",
      "162p1a0417\n",
      "162p1a0418\n",
      "162p1a0419\n",
      "162p1a0420\n",
      "162p1a0421\n",
      "162p1a0422\n",
      "162p1a0423\n",
      "162p1a0424\n",
      "162p1a0425\n",
      "162p1a0426\n",
      "162p1a0427\n",
      "162p1a0428\n",
      "162p1a0429\n",
      "162p1a0430\n",
      "162p1a0431\n",
      "162p1a0432\n",
      "162p1a0433\n",
      "162p1a0434\n",
      "162p1a0435\n",
      "162p1a0436\n",
      "162p1a0437\n",
      "162p1a0438\n",
      "162p1a0439\n",
      "162p1a0440\n",
      "162p1a0441\n",
      "162p1a0442\n",
      "162p1a0443\n",
      "162p1a0444\n",
      "162p1a0445\n",
      "162p1a0446\n",
      "162p1a0447\n",
      "162p1a0448\n",
      "162p1a0449\n",
      "162p1a0450\n",
      "162p1a0451\n",
      "162p1a0452\n",
      "162p1a0453\n",
      "162p1a0454\n",
      "162p1a0455\n",
      "162p1a0456\n",
      "162p1a0457\n",
      "162p1a0458\n",
      "162p1a0459\n",
      "162p1a0460\n",
      "162p1a0461\n",
      "162p1a0462\n",
      "162p1a0463\n",
      "162p1a0464\n",
      "162p1a0465\n",
      "162p1a0466\n",
      "162p1a0467\n",
      "162p1a0468\n",
      "162p1a0469\n",
      "162p1a0470\n",
      "162p1a0471\n",
      "162p1a0472\n",
      "162p1a0473\n",
      "162p1a0474\n",
      "162p1a0475\n",
      "162p1a0476\n",
      "162p1a0477\n",
      "162p1a0478\n",
      "162p1a0479\n",
      "162p1a0480\n",
      "162p1a0481\n",
      "162p1a0482\n",
      "162p1a0483\n",
      "162p1a0484\n",
      "162p1a0485\n",
      "162p1a0486\n",
      "162p1a0487\n",
      "162p1a0488\n",
      "162p1a0489\n",
      "162p1a0490\n",
      "162p1a0491\n",
      "162p1a0492\n",
      "162p1a0493\n",
      "162p1a0494\n",
      "162p1a0495\n",
      "162p1a0496\n",
      "162p1a0497\n",
      "162p1a0498\n",
      "162p1a0499\n"
     ]
    }
   ],
   "source": [
    "# Roll Numbers \n",
    "# input:1 100 \n",
    "# output:162p1a0401\n",
    "#        162p1a0404\n",
    "#        162p1a0405\n",
    "#         ..\n",
    "        \n",
    "#        162p1a0499\n",
    "lb=int(input())\n",
    "ub=int(input())\n",
    "# skip=int(input())\n",
    "# for number in range(lb,ub):\n",
    "#     if(number==2 or  number == 40 or number == 50):\n",
    "#         continue\n",
    "#     else:\n",
    "#         print(\"162p1a0\"+str(400+number))\n",
    "while(lb<ub):\n",
    "    print(\"162p1a0\"+str(400+lb))\n",
    "    lb=lb+1"
   ]
  },
  {
   "cell_type": "code",
   "execution_count": null,
   "metadata": {},
   "outputs": [],
   "source": [
    "# Series\n",
    "#Taks-1\n",
    "# input:1 10\n",
    "# hint :9+1 9+3 9+5 9+7 9+9  9+11 ...\n",
    "# ouput:10 12 14 16 18 20 22 24 26 28\n",
    "#Taks-2\n",
    "# input:5\n",
    "# hint 5^1+1^1 5^2+2^2 5^3+3^3\n",
    "# output:6 29 152 881 6250\n",
    "#Task-3\n",
    "# input:10\n",
    "# hint:10+1^2 9+2^3 8+3^4 7+4^5 6+5^6 5+6^7 4+7^8 ...\n",
    "# output:11 17 89 ...."
   ]
  },
  {
   "cell_type": "code",
   "execution_count": 30,
   "metadata": {},
   "outputs": [
    {
     "name": "stdout",
     "output_type": "stream",
     "text": [
      "132\n",
      "6 9 3 "
     ]
    }
   ],
   "source": [
    "# Value Series\n",
    "# input:132455\n",
    "# hint:6*5 6*5 6*4 6*2 6*3 6*1\n",
    "# output:30 30 24 12 18 6\n",
    "n=int(input())\n",
    "t=n\n",
    "c=0\n",
    "#to find the count\n",
    "while(n>0):\n",
    "    n=n//10\n",
    "    c=c+1\n",
    "# print(c)\n",
    "# print(t)\n",
    "#To get Series\n",
    "for i in range(c):\n",
    "    last=t%10 # take last digit to multiply with count\n",
    "    print(c*last,end=\" \")# Series\n",
    "    t=t//10 #digit filtaring  "
   ]
  },
  {
   "cell_type": "code",
   "execution_count": 32,
   "metadata": {},
   "outputs": [
    {
     "name": "stdout",
     "output_type": "stream",
     "text": [
      "132455\n",
      "6 * 5 : 30\n",
      "5 * 5 : 25\n",
      "4 * 4 : 16\n",
      "3 * 2 : 6\n",
      "2 * 3 : 6\n",
      "1 * 1 : 1\n"
     ]
    }
   ],
   "source": [
    "# Value Series\n",
    "# input:132455\n",
    "# hint:6*5 5*5 4*4 3*2 2*3 1*1\n",
    "# output:30 25 16 6 6 1\n",
    "n=int(input())\n",
    "t=n\n",
    "c=0\n",
    "#to find the count\n",
    "while(n>0):\n",
    "    n=n//10\n",
    "    c=c+1\n",
    "# print(c)\n",
    "# print(t)\n",
    "#To get Series\n",
    "for i in range(c):\n",
    "    last=t%10 # take last digit to multiply with count\n",
    "    print(c,\"*\",last,\":\",c*last)# Series\n",
    "    \n",
    "    c=c-1\n",
    "    t=t//10 #digit filtaring  "
   ]
  },
  {
   "cell_type": "code",
   "execution_count": 33,
   "metadata": {},
   "outputs": [],
   "source": [
    "#Strings"
   ]
  },
  {
   "cell_type": "code",
   "execution_count": 39,
   "metadata": {},
   "outputs": [
    {
     "data": {
      "text/plain": [
       "'V'"
      ]
     },
     "execution_count": 39,
     "metadata": {},
     "output_type": "execute_result"
    }
   ],
   "source": [
    "s=\"Vijay\"\n",
    "# for i in range(len(s)):\n",
    "#     print(i,\"--->\",s[i])\n",
    "s[-5]"
   ]
  },
  {
   "cell_type": "code",
   "execution_count": 44,
   "metadata": {},
   "outputs": [
    {
     "name": "stdout",
     "output_type": "stream",
     "text": [
      "V i j a y "
     ]
    }
   ],
   "source": [
    "for cha in s:\n",
    "    print(cha,end=\" \")"
   ]
  },
  {
   "cell_type": "code",
   "execution_count": 40,
   "metadata": {},
   "outputs": [
    {
     "data": {
      "text/plain": [
       "'yajiV'"
      ]
     },
     "execution_count": 40,
     "metadata": {},
     "output_type": "execute_result"
    }
   ],
   "source": [
    "s=s[::-1]"
   ]
  },
  {
   "cell_type": "code",
   "execution_count": 41,
   "metadata": {},
   "outputs": [
    {
     "data": {
      "text/plain": [
       "'y'"
      ]
     },
     "execution_count": 41,
     "metadata": {},
     "output_type": "execute_result"
    }
   ],
   "source": [
    "s[-1]"
   ]
  },
  {
   "cell_type": "code",
   "execution_count": 42,
   "metadata": {},
   "outputs": [
    {
     "name": "stdout",
     "output_type": "stream",
     "text": [
      "['__add__', '__class__', '__contains__', '__delattr__', '__dir__', '__doc__', '__eq__', '__format__', '__ge__', '__getattribute__', '__getitem__', '__getnewargs__', '__gt__', '__hash__', '__init__', '__init_subclass__', '__iter__', '__le__', '__len__', '__lt__', '__mod__', '__mul__', '__ne__', '__new__', '__reduce__', '__reduce_ex__', '__repr__', '__rmod__', '__rmul__', '__setattr__', '__sizeof__', '__str__', '__subclasshook__', 'capitalize', 'casefold', 'center', 'count', 'encode', 'endswith', 'expandtabs', 'find', 'format', 'format_map', 'index', 'isalnum', 'isalpha', 'isascii', 'isdecimal', 'isdigit', 'isidentifier', 'islower', 'isnumeric', 'isprintable', 'isspace', 'istitle', 'isupper', 'join', 'ljust', 'lower', 'lstrip', 'maketrans', 'partition', 'replace', 'rfind', 'rindex', 'rjust', 'rpartition', 'rsplit', 'rstrip', 'split', 'splitlines', 'startswith', 'strip', 'swapcase', 'title', 'translate', 'upper', 'zfill']\n"
     ]
    }
   ],
   "source": [
    "print(dir(str))"
   ]
  },
  {
   "cell_type": "code",
   "execution_count": 55,
   "metadata": {},
   "outputs": [],
   "source": [
    "#slicing\n",
    "s=\"Hello CBIT \""
   ]
  },
  {
   "cell_type": "code",
   "execution_count": 58,
   "metadata": {},
   "outputs": [
    {
     "data": {
      "text/plain": [
       "'eoB'"
      ]
     },
     "execution_count": 58,
     "metadata": {},
     "output_type": "execute_result"
    }
   ],
   "source": [
    "s[1:10:3]"
   ]
  },
  {
   "cell_type": "code",
   "execution_count": 51,
   "metadata": {},
   "outputs": [
    {
     "data": {
      "text/plain": [
       "'Vija'"
      ]
     },
     "execution_count": 51,
     "metadata": {},
     "output_type": "execute_result"
    }
   ],
   "source": [
    "s[:-1]"
   ]
  },
  {
   "cell_type": "code",
   "execution_count": 53,
   "metadata": {},
   "outputs": [
    {
     "data": {
      "text/plain": [
       "'Vijay'"
      ]
     },
     "execution_count": 53,
     "metadata": {},
     "output_type": "execute_result"
    }
   ],
   "source": [
    "s[::]"
   ]
  },
  {
   "cell_type": "code",
   "execution_count": 59,
   "metadata": {},
   "outputs": [],
   "source": [
    "c=\"Hello apssdc\"\n"
   ]
  },
  {
   "cell_type": "code",
   "execution_count": 60,
   "metadata": {},
   "outputs": [
    {
     "data": {
      "text/plain": [
       "12"
      ]
     },
     "execution_count": 60,
     "metadata": {},
     "output_type": "execute_result"
    }
   ],
   "source": [
    "len(c)"
   ]
  },
  {
   "cell_type": "code",
   "execution_count": 63,
   "metadata": {},
   "outputs": [
    {
     "name": "stdout",
     "output_type": "stream",
     "text": [
      "\n",
      " 12\n"
     ]
    }
   ],
   "source": [
    "count=0\n",
    "for i in c:\n",
    "    count=count+1\n",
    "print(\"\\n\",count)"
   ]
  },
  {
   "cell_type": "code",
   "execution_count": 65,
   "metadata": {},
   "outputs": [
    {
     "name": "stdout",
     "output_type": "stream",
     "text": [
      "['__add__', '__class__', '__contains__', '__delattr__', '__dir__', '__doc__', '__eq__', '__format__', '__ge__', '__getattribute__', '__getitem__', '__getnewargs__', '__gt__', '__hash__', '__init__', '__init_subclass__', '__iter__', '__le__', '__len__', '__lt__', '__mod__', '__mul__', '__ne__', '__new__', '__reduce__', '__reduce_ex__', '__repr__', '__rmod__', '__rmul__', '__setattr__', '__sizeof__', '__str__', '__subclasshook__', 'capitalize', 'casefold', 'center', 'count', 'encode', 'endswith', 'expandtabs', 'find', 'format', 'format_map', 'index', 'isalnum', 'isalpha', 'isascii', 'isdecimal', 'isdigit', 'isidentifier', 'islower', 'isnumeric', 'isprintable', 'isspace', 'istitle', 'isupper', 'join', 'ljust', 'lower', 'lstrip', 'maketrans', 'partition', 'replace', 'rfind', 'rindex', 'rjust', 'rpartition', 'rsplit', 'rstrip', 'split', 'splitlines', 'startswith', 'strip', 'swapcase', 'title', 'translate', 'upper', 'zfill']\n"
     ]
    }
   ],
   "source": [
    "print(dir(str))"
   ]
  },
  {
   "cell_type": "code",
   "execution_count": 66,
   "metadata": {},
   "outputs": [
    {
     "data": {
      "text/plain": [
       "'Hello apssdc'"
      ]
     },
     "execution_count": 66,
     "metadata": {},
     "output_type": "execute_result"
    }
   ],
   "source": [
    "c"
   ]
  },
  {
   "cell_type": "code",
   "execution_count": 67,
   "metadata": {},
   "outputs": [
    {
     "data": {
      "text/plain": [
       "'hELLO APSSDC'"
      ]
     },
     "execution_count": 67,
     "metadata": {},
     "output_type": "execute_result"
    }
   ],
   "source": [
    "#\n",
    "c.swapcase()"
   ]
  },
  {
   "cell_type": "code",
   "execution_count": null,
   "metadata": {},
   "outputs": [],
   "source": [
    "# String Slicing and Indexing\n"
   ]
  },
  {
   "cell_type": "code",
   "execution_count": null,
   "metadata": {},
   "outputs": [],
   "source": [
    "#String Indexing\n",
    " 1. Positive index\n",
    "    0->Strting index\n",
    " 2.negetive Index\n",
    "    -1\n",
    "    "
   ]
  },
  {
   "cell_type": "code",
   "execution_count": 68,
   "metadata": {},
   "outputs": [
    {
     "data": {
      "text/plain": [
       "'Hello apssdc'"
      ]
     },
     "execution_count": 68,
     "metadata": {},
     "output_type": "execute_result"
    }
   ],
   "source": [
    "c"
   ]
  },
  {
   "cell_type": "code",
   "execution_count": 70,
   "metadata": {},
   "outputs": [
    {
     "data": {
      "text/plain": [
       "'o'"
      ]
     },
     "execution_count": 70,
     "metadata": {},
     "output_type": "execute_result"
    }
   ],
   "source": [
    "c[4]"
   ]
  },
  {
   "cell_type": "code",
   "execution_count": 76,
   "metadata": {},
   "outputs": [
    {
     "data": {
      "text/plain": [
       "'Hello'"
      ]
     },
     "execution_count": 76,
     "metadata": {},
     "output_type": "execute_result"
    }
   ],
   "source": [
    "c[0:5]"
   ]
  },
  {
   "cell_type": "code",
   "execution_count": 77,
   "metadata": {},
   "outputs": [
    {
     "data": {
      "text/plain": [
       "'Hello'"
      ]
     },
     "execution_count": 77,
     "metadata": {},
     "output_type": "execute_result"
    }
   ],
   "source": [
    "c[:5]"
   ]
  },
  {
   "cell_type": "code",
   "execution_count": 78,
   "metadata": {},
   "outputs": [
    {
     "data": {
      "text/plain": [
       "' apssdc'"
      ]
     },
     "execution_count": 78,
     "metadata": {},
     "output_type": "execute_result"
    }
   ],
   "source": [
    "c[5:12]"
   ]
  },
  {
   "cell_type": "code",
   "execution_count": 79,
   "metadata": {},
   "outputs": [
    {
     "data": {
      "text/plain": [
       "'apssdc'"
      ]
     },
     "execution_count": 79,
     "metadata": {},
     "output_type": "execute_result"
    }
   ],
   "source": [
    "c[6:12]"
   ]
  },
  {
   "cell_type": "code",
   "execution_count": 82,
   "metadata": {},
   "outputs": [
    {
     "data": {
      "text/plain": [
       "'apssdc'"
      ]
     },
     "execution_count": 82,
     "metadata": {},
     "output_type": "execute_result"
    }
   ],
   "source": [
    "st=c[6:]\n",
    "st"
   ]
  },
  {
   "cell_type": "code",
   "execution_count": 83,
   "metadata": {},
   "outputs": [
    {
     "data": {
      "text/plain": [
       "'cdsspa'"
      ]
     },
     "execution_count": 83,
     "metadata": {},
     "output_type": "execute_result"
    }
   ],
   "source": [
    "st[::-1]"
   ]
  },
  {
   "cell_type": "code",
   "execution_count": 86,
   "metadata": {},
   "outputs": [
    {
     "name": "stdout",
     "output_type": "stream",
     "text": [
      "radar\n",
      "Palindrome\n"
     ]
    }
   ],
   "source": [
    "p=input()\n",
    "if p==p[::-1]:\n",
    "    print(\"Palindrome\")\n",
    "else:\n",
    "    print(\"Not a Plaindrome\")"
   ]
  },
  {
   "cell_type": "code",
   "execution_count": 87,
   "metadata": {},
   "outputs": [
    {
     "data": {
      "text/plain": [
       "'Hello apssdc'"
      ]
     },
     "execution_count": 87,
     "metadata": {},
     "output_type": "execute_result"
    }
   ],
   "source": [
    "c"
   ]
  },
  {
   "cell_type": "code",
   "execution_count": 89,
   "metadata": {},
   "outputs": [
    {
     "name": "stdout",
     "output_type": "stream",
     "text": [
      "Helo apsdc\n"
     ]
    }
   ],
   "source": [
    "unique=''\n",
    "for i in c:\n",
    "    if i not in unique:\n",
    "        unique=unique+i\n",
    "print(unique)\n",
    "    "
   ]
  },
  {
   "cell_type": "code",
   "execution_count": null,
   "metadata": {},
   "outputs": [],
   "source": []
  }
 ],
 "metadata": {
  "kernelspec": {
   "display_name": "Python 3",
   "language": "python",
   "name": "python3"
  },
  "language_info": {
   "codemirror_mode": {
    "name": "ipython",
    "version": 3
   },
   "file_extension": ".py",
   "mimetype": "text/x-python",
   "name": "python",
   "nbconvert_exporter": "python",
   "pygments_lexer": "ipython3",
   "version": "3.7.3"
  }
 },
 "nbformat": 4,
 "nbformat_minor": 2
}
